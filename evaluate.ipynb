{
 "cells": [
  {
   "cell_type": "code",
   "execution_count": 1,
   "id": "7f3b16ba",
   "metadata": {},
   "outputs": [],
   "source": [
    "import pandas as pd\n",
    "import numpy as np\n",
    "import matplotlib.pyplot as plt\n",
    "import seaborn as sns\n",
    "\n",
    "\n",
    "from wrangle import wrangled_zillow\n",
    "from sklearn.linear_model import LinearRegression\n",
    "from sklearn.metrics import mean_squared_error, r2_score, explained_variance_score\n",
    "from sklearn.feature_selection import f_regression\n",
    "\n",
    "\n",
    "import warnings\n",
    "warnings.filterwarnings('ignore')"
   ]
  },
  {
   "cell_type": "code",
   "execution_count": 2,
   "id": "26a34e24",
   "metadata": {},
   "outputs": [
    {
     "name": "stdout",
     "output_type": "stream",
     "text": [
      "Using cached csv\n"
     ]
    },
    {
     "data": {
      "text/html": [
       "<div>\n",
       "<style scoped>\n",
       "    .dataframe tbody tr th:only-of-type {\n",
       "        vertical-align: middle;\n",
       "    }\n",
       "\n",
       "    .dataframe tbody tr th {\n",
       "        vertical-align: top;\n",
       "    }\n",
       "\n",
       "    .dataframe thead th {\n",
       "        text-align: right;\n",
       "    }\n",
       "</style>\n",
       "<table border=\"1\" class=\"dataframe\">\n",
       "  <thead>\n",
       "    <tr style=\"text-align: right;\">\n",
       "      <th></th>\n",
       "      <th>bedrooms</th>\n",
       "      <th>bathrooms</th>\n",
       "      <th>area</th>\n",
       "      <th>tax_value</th>\n",
       "      <th>year_built</th>\n",
       "      <th>county</th>\n",
       "      <th>tax_amount</th>\n",
       "      <th>transaction_date</th>\n",
       "    </tr>\n",
       "  </thead>\n",
       "  <tbody>\n",
       "    <tr>\n",
       "      <th>14961</th>\n",
       "      <td>3.0</td>\n",
       "      <td>2.5</td>\n",
       "      <td>1913.0</td>\n",
       "      <td>830000.0</td>\n",
       "      <td>1985</td>\n",
       "      <td>OC</td>\n",
       "      <td>8973.00</td>\n",
       "      <td>2017-03-31</td>\n",
       "    </tr>\n",
       "    <tr>\n",
       "      <th>33917</th>\n",
       "      <td>4.0</td>\n",
       "      <td>2.0</td>\n",
       "      <td>2171.0</td>\n",
       "      <td>74179.0</td>\n",
       "      <td>1956</td>\n",
       "      <td>OC</td>\n",
       "      <td>1085.74</td>\n",
       "      <td>2017-06-23</td>\n",
       "    </tr>\n",
       "    <tr>\n",
       "      <th>29530</th>\n",
       "      <td>3.0</td>\n",
       "      <td>2.0</td>\n",
       "      <td>1880.0</td>\n",
       "      <td>577546.0</td>\n",
       "      <td>1940</td>\n",
       "      <td>LA</td>\n",
       "      <td>6824.84</td>\n",
       "      <td>2017-06-06</td>\n",
       "    </tr>\n",
       "    <tr>\n",
       "      <th>37330</th>\n",
       "      <td>2.0</td>\n",
       "      <td>1.0</td>\n",
       "      <td>1548.0</td>\n",
       "      <td>386000.0</td>\n",
       "      <td>1947</td>\n",
       "      <td>LA</td>\n",
       "      <td>5398.68</td>\n",
       "      <td>2017-07-07</td>\n",
       "    </tr>\n",
       "    <tr>\n",
       "      <th>26232</th>\n",
       "      <td>4.0</td>\n",
       "      <td>3.0</td>\n",
       "      <td>2034.0</td>\n",
       "      <td>667000.0</td>\n",
       "      <td>2005</td>\n",
       "      <td>VC</td>\n",
       "      <td>7520.44</td>\n",
       "      <td>2017-05-23</td>\n",
       "    </tr>\n",
       "  </tbody>\n",
       "</table>\n",
       "</div>"
      ],
      "text/plain": [
       "       bedrooms  bathrooms    area  tax_value year_built county  tax_amount  \\\n",
       "14961       3.0        2.5  1913.0   830000.0       1985     OC     8973.00   \n",
       "33917       4.0        2.0  2171.0    74179.0       1956     OC     1085.74   \n",
       "29530       3.0        2.0  1880.0   577546.0       1940     LA     6824.84   \n",
       "37330       2.0        1.0  1548.0   386000.0       1947     LA     5398.68   \n",
       "26232       4.0        3.0  2034.0   667000.0       2005     VC     7520.44   \n",
       "\n",
       "      transaction_date  \n",
       "14961       2017-03-31  \n",
       "33917       2017-06-23  \n",
       "29530       2017-06-06  \n",
       "37330       2017-07-07  \n",
       "26232       2017-05-23  "
      ]
     },
     "execution_count": 2,
     "metadata": {},
     "output_type": "execute_result"
    }
   ],
   "source": [
    "train, validate, test = wrangled_zillow()\n",
    "train.head()"
   ]
  },
  {
   "cell_type": "markdown",
   "id": "bedebc12",
   "metadata": {},
   "source": [
    "- Fit a linear regression model (ordinary least squares) and compute yhat, predictions of tax_value using only area.\n",
    "    - model = LinearRegression().fit(X, y)\n",
    "    - predictions = model.predict(X)"
   ]
  },
  {
   "cell_type": "code",
   "execution_count": 3,
   "id": "42763b9f",
   "metadata": {},
   "outputs": [],
   "source": [
    "# x = area\n",
    "# y = tax_value \n"
   ]
  },
  {
   "cell_type": "code",
   "execution_count": 4,
   "id": "ca5741dd",
   "metadata": {},
   "outputs": [],
   "source": [
    "#for ease of understanding...just use a copy of train and rename\n",
    "\n",
    "df = train.copy()\n",
    "\n",
    "#x = df.drop(columns = 'tax_value') #drop target variable\n",
    "#y = df[['tax_value']] #maintain target variable\n",
    "\n",
    "#less noise, just choose what you're looking for\n",
    "\n",
    "x = df['area'] #independent variable\n",
    "y = df['tax_value'] #dependent variable"
   ]
  },
  {
   "cell_type": "code",
   "execution_count": 5,
   "id": "e8d1e436",
   "metadata": {},
   "outputs": [
    {
     "data": {
      "text/plain": [
       "364685.12"
      ]
     },
     "execution_count": 5,
     "metadata": {},
     "output_type": "execute_result"
    }
   ],
   "source": [
    "#get baseline, baseline is mean of dependent variable yhat_baseline == baseline\n",
    "\n",
    "baseline = round(df.tax_value.mean(),2)\n",
    "baseline"
   ]
  },
  {
   "cell_type": "code",
   "execution_count": 10,
   "id": "abaa4607",
   "metadata": {},
   "outputs": [
    {
     "data": {
      "text/html": [
       "<div>\n",
       "<style scoped>\n",
       "    .dataframe tbody tr th:only-of-type {\n",
       "        vertical-align: middle;\n",
       "    }\n",
       "\n",
       "    .dataframe tbody tr th {\n",
       "        vertical-align: top;\n",
       "    }\n",
       "\n",
       "    .dataframe thead th {\n",
       "        text-align: right;\n",
       "    }\n",
       "</style>\n",
       "<table border=\"1\" class=\"dataframe\">\n",
       "  <thead>\n",
       "    <tr style=\"text-align: right;\">\n",
       "      <th></th>\n",
       "      <th>bedrooms</th>\n",
       "      <th>bathrooms</th>\n",
       "      <th>area</th>\n",
       "      <th>tax_value</th>\n",
       "      <th>year_built</th>\n",
       "      <th>county</th>\n",
       "      <th>tax_amount</th>\n",
       "      <th>transaction_date</th>\n",
       "      <th>yhat</th>\n",
       "      <th>residual</th>\n",
       "      <th>baseline</th>\n",
       "    </tr>\n",
       "  </thead>\n",
       "  <tbody>\n",
       "    <tr>\n",
       "      <th>14961</th>\n",
       "      <td>3.0</td>\n",
       "      <td>2.5</td>\n",
       "      <td>1913.0</td>\n",
       "      <td>830000.0</td>\n",
       "      <td>1985</td>\n",
       "      <td>OC</td>\n",
       "      <td>8973.00</td>\n",
       "      <td>2017-03-31</td>\n",
       "      <td>401191.136992</td>\n",
       "      <td>428808.863008</td>\n",
       "      <td>364685.12</td>\n",
       "    </tr>\n",
       "    <tr>\n",
       "      <th>33917</th>\n",
       "      <td>4.0</td>\n",
       "      <td>2.0</td>\n",
       "      <td>2171.0</td>\n",
       "      <td>74179.0</td>\n",
       "      <td>1956</td>\n",
       "      <td>OC</td>\n",
       "      <td>1085.74</td>\n",
       "      <td>2017-06-23</td>\n",
       "      <td>444628.829530</td>\n",
       "      <td>-370449.829530</td>\n",
       "      <td>364685.12</td>\n",
       "    </tr>\n",
       "    <tr>\n",
       "      <th>29530</th>\n",
       "      <td>3.0</td>\n",
       "      <td>2.0</td>\n",
       "      <td>1880.0</td>\n",
       "      <td>577546.0</td>\n",
       "      <td>1940</td>\n",
       "      <td>LA</td>\n",
       "      <td>6824.84</td>\n",
       "      <td>2017-06-06</td>\n",
       "      <td>395635.153063</td>\n",
       "      <td>181910.846937</td>\n",
       "      <td>364685.12</td>\n",
       "    </tr>\n",
       "    <tr>\n",
       "      <th>37330</th>\n",
       "      <td>2.0</td>\n",
       "      <td>1.0</td>\n",
       "      <td>1548.0</td>\n",
       "      <td>386000.0</td>\n",
       "      <td>1947</td>\n",
       "      <td>LA</td>\n",
       "      <td>5398.68</td>\n",
       "      <td>2017-07-07</td>\n",
       "      <td>339738.587473</td>\n",
       "      <td>46261.412527</td>\n",
       "      <td>364685.12</td>\n",
       "    </tr>\n",
       "    <tr>\n",
       "      <th>26232</th>\n",
       "      <td>4.0</td>\n",
       "      <td>3.0</td>\n",
       "      <td>2034.0</td>\n",
       "      <td>667000.0</td>\n",
       "      <td>2005</td>\n",
       "      <td>VC</td>\n",
       "      <td>7520.44</td>\n",
       "      <td>2017-05-23</td>\n",
       "      <td>421563.078066</td>\n",
       "      <td>245436.921934</td>\n",
       "      <td>364685.12</td>\n",
       "    </tr>\n",
       "  </tbody>\n",
       "</table>\n",
       "</div>"
      ],
      "text/plain": [
       "       bedrooms  bathrooms    area  tax_value year_built county  tax_amount  \\\n",
       "14961       3.0        2.5  1913.0   830000.0       1985     OC     8973.00   \n",
       "33917       4.0        2.0  2171.0    74179.0       1956     OC     1085.74   \n",
       "29530       3.0        2.0  1880.0   577546.0       1940     LA     6824.84   \n",
       "37330       2.0        1.0  1548.0   386000.0       1947     LA     5398.68   \n",
       "26232       4.0        3.0  2034.0   667000.0       2005     VC     7520.44   \n",
       "\n",
       "      transaction_date           yhat       residual   baseline  \n",
       "14961       2017-03-31  401191.136992  428808.863008  364685.12  \n",
       "33917       2017-06-23  444628.829530 -370449.829530  364685.12  \n",
       "29530       2017-06-06  395635.153063  181910.846937  364685.12  \n",
       "37330       2017-07-07  339738.587473   46261.412527  364685.12  \n",
       "26232       2017-05-23  421563.078066  245436.921934  364685.12  "
      ]
     },
     "execution_count": 10,
     "metadata": {},
     "output_type": "execute_result"
    }
   ],
   "source": [
    "#create a baseline column\n",
    "df['baseline'] = round(df.tax_value.mean(), 2)\n",
    "df.head()\n"
   ]
  },
  {
   "cell_type": "code",
   "execution_count": 11,
   "id": "23f937c9",
   "metadata": {},
   "outputs": [
    {
     "data": {
      "image/png": "[encoded data removed]",
      "text/plain": [
       "<Figure size 432x288 with 1 Axes>"
      ]
     },
     "metadata": {
      "needs_background": "light"
     },
     "output_type": "display_data"
    }
   ],
   "source": [
    "# plot data with baseline:\n",
    "\n",
    "plt.scatter(df.tax_value, df.area)\n",
    "plt.axhline(df.area.mean(), ls = ':', c = 'r')\n",
    "plt.xlabel('x = area')\n",
    "plt.ylabel('y = tax_value')\n",
    "plt.title('Baseline Model');"
   ]
  },
  {
   "cell_type": "code",
   "execution_count": 12,
   "id": "4fcaf78b",
   "metadata": {},
   "outputs": [
    {
     "data": {
      "text/html": [
       "<div>\n",
       "<style scoped>\n",
       "    .dataframe tbody tr th:only-of-type {\n",
       "        vertical-align: middle;\n",
       "    }\n",
       "\n",
       "    .dataframe tbody tr th {\n",
       "        vertical-align: top;\n",
       "    }\n",
       "\n",
       "    .dataframe thead th {\n",
       "        text-align: right;\n",
       "    }\n",
       "</style>\n",
       "<table border=\"1\" class=\"dataframe\">\n",
       "  <thead>\n",
       "    <tr style=\"text-align: right;\">\n",
       "      <th></th>\n",
       "      <th>bedrooms</th>\n",
       "      <th>bathrooms</th>\n",
       "      <th>area</th>\n",
       "      <th>tax_value</th>\n",
       "      <th>year_built</th>\n",
       "      <th>county</th>\n",
       "      <th>tax_amount</th>\n",
       "      <th>transaction_date</th>\n",
       "      <th>yhat</th>\n",
       "      <th>residual</th>\n",
       "      <th>baseline</th>\n",
       "    </tr>\n",
       "  </thead>\n",
       "  <tbody>\n",
       "    <tr>\n",
       "      <th>14961</th>\n",
       "      <td>3.0</td>\n",
       "      <td>2.5</td>\n",
       "      <td>1913.0</td>\n",
       "      <td>830000.0</td>\n",
       "      <td>1985</td>\n",
       "      <td>OC</td>\n",
       "      <td>8973.00</td>\n",
       "      <td>2017-03-31</td>\n",
       "      <td>401191.136992</td>\n",
       "      <td>428808.863008</td>\n",
       "      <td>364685.12</td>\n",
       "    </tr>\n",
       "    <tr>\n",
       "      <th>33917</th>\n",
       "      <td>4.0</td>\n",
       "      <td>2.0</td>\n",
       "      <td>2171.0</td>\n",
       "      <td>74179.0</td>\n",
       "      <td>1956</td>\n",
       "      <td>OC</td>\n",
       "      <td>1085.74</td>\n",
       "      <td>2017-06-23</td>\n",
       "      <td>444628.829530</td>\n",
       "      <td>-370449.829530</td>\n",
       "      <td>364685.12</td>\n",
       "    </tr>\n",
       "    <tr>\n",
       "      <th>29530</th>\n",
       "      <td>3.0</td>\n",
       "      <td>2.0</td>\n",
       "      <td>1880.0</td>\n",
       "      <td>577546.0</td>\n",
       "      <td>1940</td>\n",
       "      <td>LA</td>\n",
       "      <td>6824.84</td>\n",
       "      <td>2017-06-06</td>\n",
       "      <td>395635.153063</td>\n",
       "      <td>181910.846937</td>\n",
       "      <td>364685.12</td>\n",
       "    </tr>\n",
       "    <tr>\n",
       "      <th>37330</th>\n",
       "      <td>2.0</td>\n",
       "      <td>1.0</td>\n",
       "      <td>1548.0</td>\n",
       "      <td>386000.0</td>\n",
       "      <td>1947</td>\n",
       "      <td>LA</td>\n",
       "      <td>5398.68</td>\n",
       "      <td>2017-07-07</td>\n",
       "      <td>339738.587473</td>\n",
       "      <td>46261.412527</td>\n",
       "      <td>364685.12</td>\n",
       "    </tr>\n",
       "    <tr>\n",
       "      <th>26232</th>\n",
       "      <td>4.0</td>\n",
       "      <td>3.0</td>\n",
       "      <td>2034.0</td>\n",
       "      <td>667000.0</td>\n",
       "      <td>2005</td>\n",
       "      <td>VC</td>\n",
       "      <td>7520.44</td>\n",
       "      <td>2017-05-23</td>\n",
       "      <td>421563.078066</td>\n",
       "      <td>245436.921934</td>\n",
       "      <td>364685.12</td>\n",
       "    </tr>\n",
       "    <tr>\n",
       "      <th>...</th>\n",
       "      <td>...</td>\n",
       "      <td>...</td>\n",
       "      <td>...</td>\n",
       "      <td>...</td>\n",
       "      <td>...</td>\n",
       "      <td>...</td>\n",
       "      <td>...</td>\n",
       "      <td>...</td>\n",
       "      <td>...</td>\n",
       "      <td>...</td>\n",
       "      <td>...</td>\n",
       "    </tr>\n",
       "    <tr>\n",
       "      <th>10735</th>\n",
       "      <td>3.0</td>\n",
       "      <td>2.0</td>\n",
       "      <td>950.0</td>\n",
       "      <td>221861.0</td>\n",
       "      <td>1959</td>\n",
       "      <td>LA</td>\n",
       "      <td>2859.70</td>\n",
       "      <td>2017-03-10</td>\n",
       "      <td>239057.424150</td>\n",
       "      <td>-17196.424150</td>\n",
       "      <td>364685.12</td>\n",
       "    </tr>\n",
       "    <tr>\n",
       "      <th>36170</th>\n",
       "      <td>3.0</td>\n",
       "      <td>2.0</td>\n",
       "      <td>1386.0</td>\n",
       "      <td>319465.0</td>\n",
       "      <td>1966</td>\n",
       "      <td>OC</td>\n",
       "      <td>3732.32</td>\n",
       "      <td>2017-06-30</td>\n",
       "      <td>312463.757275</td>\n",
       "      <td>7001.242725</td>\n",
       "      <td>364685.12</td>\n",
       "    </tr>\n",
       "    <tr>\n",
       "      <th>16109</th>\n",
       "      <td>3.0</td>\n",
       "      <td>2.0</td>\n",
       "      <td>1768.0</td>\n",
       "      <td>332301.0</td>\n",
       "      <td>1979</td>\n",
       "      <td>LA</td>\n",
       "      <td>4336.85</td>\n",
       "      <td>2017-04-06</td>\n",
       "      <td>376778.480334</td>\n",
       "      <td>-44477.480334</td>\n",
       "      <td>364685.12</td>\n",
       "    </tr>\n",
       "    <tr>\n",
       "      <th>26084</th>\n",
       "      <td>2.0</td>\n",
       "      <td>1.0</td>\n",
       "      <td>997.0</td>\n",
       "      <td>169767.0</td>\n",
       "      <td>1940</td>\n",
       "      <td>OC</td>\n",
       "      <td>2161.16</td>\n",
       "      <td>2017-05-23</td>\n",
       "      <td>246970.492171</td>\n",
       "      <td>-77203.492171</td>\n",
       "      <td>364685.12</td>\n",
       "    </tr>\n",
       "    <tr>\n",
       "      <th>47917</th>\n",
       "      <td>3.0</td>\n",
       "      <td>2.0</td>\n",
       "      <td>1487.0</td>\n",
       "      <td>184927.0</td>\n",
       "      <td>1939</td>\n",
       "      <td>OC</td>\n",
       "      <td>2408.62</td>\n",
       "      <td>2017-08-28</td>\n",
       "      <td>329468.435361</td>\n",
       "      <td>-144541.435361</td>\n",
       "      <td>364685.12</td>\n",
       "    </tr>\n",
       "  </tbody>\n",
       "</table>\n",
       "<p>25134 rows × 11 columns</p>\n",
       "</div>"
      ],
      "text/plain": [
       "       bedrooms  bathrooms    area  tax_value year_built county  tax_amount  \\\n",
       "14961       3.0        2.5  1913.0   830000.0       1985     OC     8973.00   \n",
       "33917       4.0        2.0  2171.0    74179.0       1956     OC     1085.74   \n",
       "29530       3.0        2.0  1880.0   577546.0       1940     LA     6824.84   \n",
       "37330       2.0        1.0  1548.0   386000.0       1947     LA     5398.68   \n",
       "26232       4.0        3.0  2034.0   667000.0       2005     VC     7520.44   \n",
       "...         ...        ...     ...        ...        ...    ...         ...   \n",
       "10735       3.0        2.0   950.0   221861.0       1959     LA     2859.70   \n",
       "36170       3.0        2.0  1386.0   319465.0       1966     OC     3732.32   \n",
       "16109       3.0        2.0  1768.0   332301.0       1979     LA     4336.85   \n",
       "26084       2.0        1.0   997.0   169767.0       1940     OC     2161.16   \n",
       "47917       3.0        2.0  1487.0   184927.0       1939     OC     2408.62   \n",
       "\n",
       "      transaction_date           yhat       residual   baseline  \n",
       "14961       2017-03-31  401191.136992  428808.863008  364685.12  \n",
       "33917       2017-06-23  444628.829530 -370449.829530  364685.12  \n",
       "29530       2017-06-06  395635.153063  181910.846937  364685.12  \n",
       "37330       2017-07-07  339738.587473   46261.412527  364685.12  \n",
       "26232       2017-05-23  421563.078066  245436.921934  364685.12  \n",
       "...                ...            ...            ...        ...  \n",
       "10735       2017-03-10  239057.424150  -17196.424150  364685.12  \n",
       "36170       2017-06-30  312463.757275    7001.242725  364685.12  \n",
       "16109       2017-04-06  376778.480334  -44477.480334  364685.12  \n",
       "26084       2017-05-23  246970.492171  -77203.492171  364685.12  \n",
       "47917       2017-08-28  329468.435361 -144541.435361  364685.12  \n",
       "\n",
       "[25134 rows x 11 columns]"
      ]
     },
     "execution_count": 12,
     "metadata": {},
     "output_type": "execute_result"
    }
   ],
   "source": [
    "# Now we fit a regression model using OLS method.\n",
    "# OLS = ordinary least squares.\n",
    "\n",
    "# create the model object\n",
    "lm = LinearRegression(normalize = True)\n",
    "\n",
    "# fit the model to training data\n",
    "lm.fit(df[['area']], df.tax_value)\n",
    "\n",
    "# make prediction\n",
    "df['yhat'] = lm.predict(df[['area']])\n",
    "\n",
    "df"
   ]
  },
  {
   "cell_type": "code",
   "execution_count": 13,
   "id": "a776c041",
   "metadata": {},
   "outputs": [
    {
     "data": {
      "image/png": "[encoded data removed]",
      "text/plain": [
       "<Figure size 432x288 with 1 Axes>"
      ]
     },
     "metadata": {
      "needs_background": "light"
     },
     "output_type": "display_data"
    }
   ],
   "source": [
    "# visualize the line of best fit from OLS linear model\n",
    "plt.scatter(df.area, df.tax_value)\n",
    "plt.plot(df.area, df.yhat, c = 'r')\n",
    "plt.xlabel('x = tax value')\n",
    "plt.ylabel('y = area')\n",
    "plt.title('OLS Linear Model');"
   ]
  },
  {
   "cell_type": "markdown",
   "id": "c78d20cf",
   "metadata": {},
   "source": [
    "# Residuals"
   ]
  },
  {
   "cell_type": "code",
   "execution_count": 14,
   "id": "b6c6ce35",
   "metadata": {},
   "outputs": [
    {
     "data": {
      "text/html": [
       "<div>\n",
       "<style scoped>\n",
       "    .dataframe tbody tr th:only-of-type {\n",
       "        vertical-align: middle;\n",
       "    }\n",
       "\n",
       "    .dataframe tbody tr th {\n",
       "        vertical-align: top;\n",
       "    }\n",
       "\n",
       "    .dataframe thead th {\n",
       "        text-align: right;\n",
       "    }\n",
       "</style>\n",
       "<table border=\"1\" class=\"dataframe\">\n",
       "  <thead>\n",
       "    <tr style=\"text-align: right;\">\n",
       "      <th></th>\n",
       "      <th>bedrooms</th>\n",
       "      <th>bathrooms</th>\n",
       "      <th>area</th>\n",
       "      <th>tax_value</th>\n",
       "      <th>year_built</th>\n",
       "      <th>county</th>\n",
       "      <th>tax_amount</th>\n",
       "      <th>transaction_date</th>\n",
       "      <th>yhat</th>\n",
       "      <th>residual</th>\n",
       "      <th>baseline</th>\n",
       "      <th>baseline_residual</th>\n",
       "    </tr>\n",
       "  </thead>\n",
       "  <tbody>\n",
       "    <tr>\n",
       "      <th>14961</th>\n",
       "      <td>3.0</td>\n",
       "      <td>2.5</td>\n",
       "      <td>1913.0</td>\n",
       "      <td>830000.0</td>\n",
       "      <td>1985</td>\n",
       "      <td>OC</td>\n",
       "      <td>8973.00</td>\n",
       "      <td>2017-03-31</td>\n",
       "      <td>401191.136992</td>\n",
       "      <td>428808.863008</td>\n",
       "      <td>364685.12</td>\n",
       "      <td>465314.88</td>\n",
       "    </tr>\n",
       "    <tr>\n",
       "      <th>33917</th>\n",
       "      <td>4.0</td>\n",
       "      <td>2.0</td>\n",
       "      <td>2171.0</td>\n",
       "      <td>74179.0</td>\n",
       "      <td>1956</td>\n",
       "      <td>OC</td>\n",
       "      <td>1085.74</td>\n",
       "      <td>2017-06-23</td>\n",
       "      <td>444628.829530</td>\n",
       "      <td>-370449.829530</td>\n",
       "      <td>364685.12</td>\n",
       "      <td>-290506.12</td>\n",
       "    </tr>\n",
       "    <tr>\n",
       "      <th>29530</th>\n",
       "      <td>3.0</td>\n",
       "      <td>2.0</td>\n",
       "      <td>1880.0</td>\n",
       "      <td>577546.0</td>\n",
       "      <td>1940</td>\n",
       "      <td>LA</td>\n",
       "      <td>6824.84</td>\n",
       "      <td>2017-06-06</td>\n",
       "      <td>395635.153063</td>\n",
       "      <td>181910.846937</td>\n",
       "      <td>364685.12</td>\n",
       "      <td>212860.88</td>\n",
       "    </tr>\n",
       "    <tr>\n",
       "      <th>37330</th>\n",
       "      <td>2.0</td>\n",
       "      <td>1.0</td>\n",
       "      <td>1548.0</td>\n",
       "      <td>386000.0</td>\n",
       "      <td>1947</td>\n",
       "      <td>LA</td>\n",
       "      <td>5398.68</td>\n",
       "      <td>2017-07-07</td>\n",
       "      <td>339738.587473</td>\n",
       "      <td>46261.412527</td>\n",
       "      <td>364685.12</td>\n",
       "      <td>21314.88</td>\n",
       "    </tr>\n",
       "    <tr>\n",
       "      <th>26232</th>\n",
       "      <td>4.0</td>\n",
       "      <td>3.0</td>\n",
       "      <td>2034.0</td>\n",
       "      <td>667000.0</td>\n",
       "      <td>2005</td>\n",
       "      <td>VC</td>\n",
       "      <td>7520.44</td>\n",
       "      <td>2017-05-23</td>\n",
       "      <td>421563.078066</td>\n",
       "      <td>245436.921934</td>\n",
       "      <td>364685.12</td>\n",
       "      <td>302314.88</td>\n",
       "    </tr>\n",
       "  </tbody>\n",
       "</table>\n",
       "</div>"
      ],
      "text/plain": [
       "       bedrooms  bathrooms    area  tax_value year_built county  tax_amount  \\\n",
       "14961       3.0        2.5  1913.0   830000.0       1985     OC     8973.00   \n",
       "33917       4.0        2.0  2171.0    74179.0       1956     OC     1085.74   \n",
       "29530       3.0        2.0  1880.0   577546.0       1940     LA     6824.84   \n",
       "37330       2.0        1.0  1548.0   386000.0       1947     LA     5398.68   \n",
       "26232       4.0        3.0  2034.0   667000.0       2005     VC     7520.44   \n",
       "\n",
       "      transaction_date           yhat       residual   baseline  \\\n",
       "14961       2017-03-31  401191.136992  428808.863008  364685.12   \n",
       "33917       2017-06-23  444628.829530 -370449.829530  364685.12   \n",
       "29530       2017-06-06  395635.153063  181910.846937  364685.12   \n",
       "37330       2017-07-07  339738.587473   46261.412527  364685.12   \n",
       "26232       2017-05-23  421563.078066  245436.921934  364685.12   \n",
       "\n",
       "       baseline_residual  \n",
       "14961          465314.88  \n",
       "33917         -290506.12  \n",
       "29530          212860.88  \n",
       "37330           21314.88  \n",
       "26232          302314.88  "
      ]
     },
     "execution_count": 14,
     "metadata": {},
     "output_type": "execute_result"
    }
   ],
   "source": [
    "# residual = actual - predicted\n",
    "df['residual'] = df.tax_value - df.yhat\n",
    "df['baseline_residual'] = df.tax_value - df.baseline\n",
    "df.head()"
   ]
  },
  {
   "cell_type": "code",
   "execution_count": 15,
   "id": "89771876",
   "metadata": {},
   "outputs": [
    {
     "data": {
      "text/plain": [
       "0.0"
      ]
     },
     "execution_count": 15,
     "metadata": {},
     "output_type": "execute_result"
    }
   ],
   "source": [
    "# sum of residual \n",
    "round(df.residual.sum(), 4)\n",
    "\n",
    "# is essentially zero"
   ]
  },
  {
   "cell_type": "code",
   "execution_count": 16,
   "id": "a5a72ee5",
   "metadata": {},
   "outputs": [
    {
     "data": {
      "text/plain": [
       "106.92"
      ]
     },
     "execution_count": 16,
     "metadata": {},
     "output_type": "execute_result"
    }
   ],
   "source": [
    "# sum of baseline residual\n",
    "round(df.baseline_residual.sum(), 4)\n",
    "\n",
    "#is not zero, this is indicitive that if outliers are causing this, using a RobustScalar may get this number closer to zero\n",
    "#not really actionable at this point"
   ]
  },
  {
   "cell_type": "markdown",
   "id": "a423af56",
   "metadata": {},
   "source": [
    "#### 3) Plot Residuals for the linear regression model you made"
   ]
  },
  {
   "cell_type": "code",
   "execution_count": 17,
   "id": "fe9a9ef7",
   "metadata": {},
   "outputs": [
    {
     "data": {
      "image/png": "[encoded data removed]",
      "text/plain": [
       "<Figure size 792x360 with 2 Axes>"
      ]
     },
     "metadata": {
      "needs_background": "light"
     },
     "output_type": "display_data"
    }
   ],
   "source": [
    "# residual plots (x vs residual)\n",
    "\n",
    "plt.figure(figsize = (11,5))\n",
    "\n",
    "plt.subplot(121)\n",
    "plt.scatter(df.area, df.baseline_residual)\n",
    "plt.axhline(y = 0, ls = ':', c = 'r')\n",
    "plt.xlabel('tax value')\n",
    "plt.ylabel('Residual')\n",
    "plt.title('Baseline Residuals')\n",
    "\n",
    "plt.subplot(122)\n",
    "plt.scatter(df.area, df.residual)\n",
    "plt.axhline(y = 0, ls = ':', c = 'r')\n",
    "plt.xlabel('area')\n",
    "plt.ylabel('Residual')\n",
    "plt.title('OLS Model Residuals');\n",
    "\n",
    "#takeaway, model beats baseline by a considerable amount"
   ]
  },
  {
   "cell_type": "markdown",
   "id": "f54029ed",
   "metadata": {},
   "source": [
    "#### 4) Calculate the sum of squared errors, explained sum of squares, total sum of squares, mean squared error, and root mean squared error for your model "
   ]
  },
  {
   "cell_type": "markdown",
   "id": "6949c658",
   "metadata": {},
   "source": [
    "# SSE (Sum of Squared Errors)"
   ]
  },
  {
   "cell_type": "code",
   "execution_count": 18,
   "id": "5e5d0401",
   "metadata": {},
   "outputs": [
    {
     "data": {
      "text/html": [
       "<div>\n",
       "<style scoped>\n",
       "    .dataframe tbody tr th:only-of-type {\n",
       "        vertical-align: middle;\n",
       "    }\n",
       "\n",
       "    .dataframe tbody tr th {\n",
       "        vertical-align: top;\n",
       "    }\n",
       "\n",
       "    .dataframe thead th {\n",
       "        text-align: right;\n",
       "    }\n",
       "</style>\n",
       "<table border=\"1\" class=\"dataframe\">\n",
       "  <thead>\n",
       "    <tr style=\"text-align: right;\">\n",
       "      <th></th>\n",
       "      <th>bedrooms</th>\n",
       "      <th>bathrooms</th>\n",
       "      <th>area</th>\n",
       "      <th>tax_value</th>\n",
       "      <th>year_built</th>\n",
       "      <th>county</th>\n",
       "      <th>tax_amount</th>\n",
       "      <th>transaction_date</th>\n",
       "      <th>yhat</th>\n",
       "      <th>residual</th>\n",
       "      <th>baseline</th>\n",
       "      <th>baseline_residual</th>\n",
       "      <th>residual^2</th>\n",
       "      <th>baseline_residual^2</th>\n",
       "    </tr>\n",
       "  </thead>\n",
       "  <tbody>\n",
       "    <tr>\n",
       "      <th>14961</th>\n",
       "      <td>3.0</td>\n",
       "      <td>2.5</td>\n",
       "      <td>1913.0</td>\n",
       "      <td>830000.0</td>\n",
       "      <td>1985</td>\n",
       "      <td>OC</td>\n",
       "      <td>8973.00</td>\n",
       "      <td>2017-03-31</td>\n",
       "      <td>401191.136992</td>\n",
       "      <td>428808.863008</td>\n",
       "      <td>364685.12</td>\n",
       "      <td>465314.88</td>\n",
       "      <td>1.838770e+11</td>\n",
       "      <td>2.165179e+11</td>\n",
       "    </tr>\n",
       "    <tr>\n",
       "      <th>33917</th>\n",
       "      <td>4.0</td>\n",
       "      <td>2.0</td>\n",
       "      <td>2171.0</td>\n",
       "      <td>74179.0</td>\n",
       "      <td>1956</td>\n",
       "      <td>OC</td>\n",
       "      <td>1085.74</td>\n",
       "      <td>2017-06-23</td>\n",
       "      <td>444628.829530</td>\n",
       "      <td>-370449.829530</td>\n",
       "      <td>364685.12</td>\n",
       "      <td>-290506.12</td>\n",
       "      <td>1.372331e+11</td>\n",
       "      <td>8.439381e+10</td>\n",
       "    </tr>\n",
       "    <tr>\n",
       "      <th>29530</th>\n",
       "      <td>3.0</td>\n",
       "      <td>2.0</td>\n",
       "      <td>1880.0</td>\n",
       "      <td>577546.0</td>\n",
       "      <td>1940</td>\n",
       "      <td>LA</td>\n",
       "      <td>6824.84</td>\n",
       "      <td>2017-06-06</td>\n",
       "      <td>395635.153063</td>\n",
       "      <td>181910.846937</td>\n",
       "      <td>364685.12</td>\n",
       "      <td>212860.88</td>\n",
       "      <td>3.309156e+10</td>\n",
       "      <td>4.530975e+10</td>\n",
       "    </tr>\n",
       "    <tr>\n",
       "      <th>37330</th>\n",
       "      <td>2.0</td>\n",
       "      <td>1.0</td>\n",
       "      <td>1548.0</td>\n",
       "      <td>386000.0</td>\n",
       "      <td>1947</td>\n",
       "      <td>LA</td>\n",
       "      <td>5398.68</td>\n",
       "      <td>2017-07-07</td>\n",
       "      <td>339738.587473</td>\n",
       "      <td>46261.412527</td>\n",
       "      <td>364685.12</td>\n",
       "      <td>21314.88</td>\n",
       "      <td>2.140118e+09</td>\n",
       "      <td>4.543241e+08</td>\n",
       "    </tr>\n",
       "    <tr>\n",
       "      <th>26232</th>\n",
       "      <td>4.0</td>\n",
       "      <td>3.0</td>\n",
       "      <td>2034.0</td>\n",
       "      <td>667000.0</td>\n",
       "      <td>2005</td>\n",
       "      <td>VC</td>\n",
       "      <td>7520.44</td>\n",
       "      <td>2017-05-23</td>\n",
       "      <td>421563.078066</td>\n",
       "      <td>245436.921934</td>\n",
       "      <td>364685.12</td>\n",
       "      <td>302314.88</td>\n",
       "      <td>6.023928e+10</td>\n",
       "      <td>9.139429e+10</td>\n",
       "    </tr>\n",
       "  </tbody>\n",
       "</table>\n",
       "</div>"
      ],
      "text/plain": [
       "       bedrooms  bathrooms    area  tax_value year_built county  tax_amount  \\\n",
       "14961       3.0        2.5  1913.0   830000.0       1985     OC     8973.00   \n",
       "33917       4.0        2.0  2171.0    74179.0       1956     OC     1085.74   \n",
       "29530       3.0        2.0  1880.0   577546.0       1940     LA     6824.84   \n",
       "37330       2.0        1.0  1548.0   386000.0       1947     LA     5398.68   \n",
       "26232       4.0        3.0  2034.0   667000.0       2005     VC     7520.44   \n",
       "\n",
       "      transaction_date           yhat       residual   baseline  \\\n",
       "14961       2017-03-31  401191.136992  428808.863008  364685.12   \n",
       "33917       2017-06-23  444628.829530 -370449.829530  364685.12   \n",
       "29530       2017-06-06  395635.153063  181910.846937  364685.12   \n",
       "37330       2017-07-07  339738.587473   46261.412527  364685.12   \n",
       "26232       2017-05-23  421563.078066  245436.921934  364685.12   \n",
       "\n",
       "       baseline_residual    residual^2  baseline_residual^2  \n",
       "14961          465314.88  1.838770e+11         2.165179e+11  \n",
       "33917         -290506.12  1.372331e+11         8.439381e+10  \n",
       "29530          212860.88  3.309156e+10         4.530975e+10  \n",
       "37330           21314.88  2.140118e+09         4.543241e+08  \n",
       "26232          302314.88  6.023928e+10         9.139429e+10  "
      ]
     },
     "execution_count": 18,
     "metadata": {},
     "output_type": "execute_result"
    }
   ],
   "source": [
    "# first calculate the square of residuals\n",
    "\n",
    "df['residual^2'] = df.residual ** 2\n",
    "df['baseline_residual^2'] = df.baseline_residual ** 2\n",
    "\n",
    "df.head()"
   ]
  },
  {
   "cell_type": "code",
   "execution_count": 19,
   "id": "57929c7b",
   "metadata": {},
   "outputs": [
    {
     "name": "stdout",
     "output_type": "stream",
     "text": [
      "SSE = 1119045921119160.0\n",
      "SSE Baseline = 1382396018363159.2\n"
     ]
    }
   ],
   "source": [
    "#lower is better outcome\n",
    "SSE = df['residual^2'].sum()\n",
    "SSE_baseline = df['baseline_residual^2'].sum()\n",
    "\n",
    "print('SSE =', \"{:.1f}\".format(SSE))\n",
    "print(\"SSE Baseline =\", \"{:.1f}\".format(SSE_baseline))\n",
    "\n",
    "#takeaways SSE is better than baseline bc it is lower"
   ]
  },
  {
   "cell_type": "code",
   "execution_count": 20,
   "id": "f5985bc1",
   "metadata": {},
   "outputs": [
    {
     "name": "stdout",
     "output_type": "stream",
     "text": [
      "SSE2 = 1119045921119160.0\n",
      "SSE2 Baseline = 1382396018363159.2\n"
     ]
    }
   ],
   "source": [
    "#sklearn SSE\n",
    "\n",
    "SSE2 = mean_squared_error(df.tax_value, df.yhat) * len(df)\n",
    "SSE2_baseline = mean_squared_error(df.tax_value, df.baseline) * len(df)\n",
    "\n",
    "print('SSE2 =', \"{:.1f}\".format(SSE2))\n",
    "print(\"SSE2 Baseline =\", \"{:.1f}\".format(SSE2_baseline))"
   ]
  },
  {
   "cell_type": "markdown",
   "id": "083d9b4d",
   "metadata": {},
   "source": [
    "# Explained Sum of Squares (ESS)"
   ]
  },
  {
   "cell_type": "code",
   "execution_count": 21,
   "id": "4bbc5d55",
   "metadata": {},
   "outputs": [
    {
     "data": {
      "text/plain": [
       "263350097244005.16"
      ]
     },
     "execution_count": 21,
     "metadata": {},
     "output_type": "execute_result"
    }
   ],
   "source": [
    "ESS = sum((df.yhat - df.tax_value.mean()) ** 2)\n",
    "ESS"
   ]
  },
  {
   "cell_type": "markdown",
   "id": "8a3e2123",
   "metadata": {},
   "source": [
    "# Total Sum of Squares (TSS)"
   ]
  },
  {
   "cell_type": "code",
   "execution_count": 22,
   "id": "54502bd5",
   "metadata": {},
   "outputs": [
    {
     "data": {
      "text/plain": [
       "1382396018363165.2"
      ]
     },
     "execution_count": 22,
     "metadata": {},
     "output_type": "execute_result"
    }
   ],
   "source": [
    "TSS = ESS + SSE\n",
    "TSS"
   ]
  },
  {
   "cell_type": "markdown",
   "id": "b5f976c9",
   "metadata": {},
   "source": [
    "# MSE (Mean Squared Error)"
   ]
  },
  {
   "cell_type": "code",
   "execution_count": 23,
   "id": "d1e75cfd",
   "metadata": {},
   "outputs": [
    {
     "name": "stdout",
     "output_type": "stream",
     "text": [
      "MSE = 44523192532.8\n",
      "MSE Baseline = 55001035185.9\n"
     ]
    }
   ],
   "source": [
    "#manual MSE\n",
    "\n",
    "MSE = SSE/len(df)\n",
    "MSE_baseline = SSE_baseline/len(df)\n",
    "\n",
    "print('MSE =', '{:.1f}'.format(MSE))\n",
    "print('MSE Baseline =', '{:.1f}'.format(MSE_baseline))"
   ]
  },
  {
   "cell_type": "code",
   "execution_count": 24,
   "id": "42a1150e",
   "metadata": {},
   "outputs": [
    {
     "name": "stdout",
     "output_type": "stream",
     "text": [
      "MSE2 = 44523192532.8\n",
      "MSE2 Baseline = 55001035185.9\n"
     ]
    }
   ],
   "source": [
    "#sklearn MSE\n",
    "\n",
    "MSE2 = mean_squared_error(df.tax_value, df.yhat)\n",
    "MSE2_baseline = mean_squared_error(df.tax_value, df.baseline) \n",
    "\n",
    "print('MSE2 =', '{:.1f}'.format(MSE2))\n",
    "print('MSE2 Baseline =', '{:.1f}'.format(MSE2_baseline))"
   ]
  },
  {
   "cell_type": "markdown",
   "id": "6ca2a971",
   "metadata": {},
   "source": [
    "# RMSE (Root Mean Squared Error)"
   ]
  },
  {
   "cell_type": "code",
   "execution_count": 25,
   "id": "2147f0da",
   "metadata": {},
   "outputs": [
    {
     "name": "stdout",
     "output_type": "stream",
     "text": [
      "RMSE =  211005.2\n",
      "RMSE baseline =  234523.0\n"
     ]
    }
   ],
   "source": [
    "# manual RMSE\n",
    "\n",
    "from math import sqrt\n",
    "\n",
    "RMSE = sqrt(MSE)\n",
    "RMSE_baseline =  sqrt(MSE_baseline)\n",
    "\n",
    "\n",
    "print(\"RMSE = \", \"{:.1f}\".format(RMSE))\n",
    "print(\"RMSE baseline = \", \"{:.1f}\".format(RMSE_baseline))"
   ]
  },
  {
   "cell_type": "code",
   "execution_count": 26,
   "id": "5777b83f",
   "metadata": {},
   "outputs": [
    {
     "name": "stdout",
     "output_type": "stream",
     "text": [
      "RMSE =  211005.2\n",
      "RMSE baseline =  234523.0\n"
     ]
    }
   ],
   "source": [
    "#sklearn RMSE\n",
    "\n",
    "#calculate RMSE: either take square root of MSE or use sklearn (kwarg 'squared = False')\n",
    "\n",
    "RMSE2 = mean_squared_error(df.tax_value, df.yhat, squared = False)\n",
    "RMSE2_baseline = mean_squared_error(df.tax_value, df.baseline, squared = False)\n",
    "\n",
    "print(\"RMSE = \", \"{:.1f}\".format(RMSE2))\n",
    "print(\"RMSE baseline = \", \"{:.1f}\".format(RMSE2_baseline))"
   ]
  },
  {
   "cell_type": "markdown",
   "id": "4a7f485e",
   "metadata": {},
   "source": [
    "# Draw Conclusions"
   ]
  },
  {
   "cell_type": "code",
   "execution_count": 27,
   "id": "65beca3e",
   "metadata": {},
   "outputs": [
    {
     "name": "stdout",
     "output_type": "stream",
     "text": [
      "  metric   model_error\n",
      "0    SSE  1.119046e+15\n",
      "1    MSE  4.452319e+10\n",
      "2   RMSE  2.110052e+05\n",
      "          metric   model_error\n",
      "0   SSE_baseline  1.382396e+15\n",
      "1   MSE_baseline  5.500104e+10\n",
      "2  RMSE_baseline  2.345230e+05\n"
     ]
    }
   ],
   "source": [
    "#draw conclusions\n",
    "\n",
    "df_eval = pd.DataFrame(np.array(['SSE', 'MSE', 'RMSE']), columns = ['metric'])\n",
    "df_baseline_eval = pd.DataFrame(np.array(['SSE_baseline', \n",
    "                                          'MSE_baseline', \n",
    "                                          'RMSE_baseline']), \n",
    "                                columns = ['metric'])\n",
    "\n",
    "df_eval['model_error'] = np.array([SSE, MSE, RMSE])\n",
    "df_baseline_eval['model_error'] = np.array([SSE_baseline, MSE_baseline, RMSE_baseline])\n",
    "\n",
    "print(df_eval)\n",
    "print(df_baseline_eval)"
   ]
  },
  {
   "cell_type": "code",
   "execution_count": 28,
   "id": "ff06d564",
   "metadata": {},
   "outputs": [
    {
     "data": {
      "text/html": [
       "<div>\n",
       "<style scoped>\n",
       "    .dataframe tbody tr th:only-of-type {\n",
       "        vertical-align: middle;\n",
       "    }\n",
       "\n",
       "    .dataframe tbody tr th {\n",
       "        vertical-align: top;\n",
       "    }\n",
       "\n",
       "    .dataframe thead th {\n",
       "        text-align: right;\n",
       "    }\n",
       "</style>\n",
       "<table border=\"1\" class=\"dataframe\">\n",
       "  <thead>\n",
       "    <tr style=\"text-align: right;\">\n",
       "      <th></th>\n",
       "      <th>metric</th>\n",
       "      <th>model_error</th>\n",
       "      <th>error_delta</th>\n",
       "    </tr>\n",
       "  </thead>\n",
       "  <tbody>\n",
       "    <tr>\n",
       "      <th>0</th>\n",
       "      <td>SSE</td>\n",
       "      <td>1.119046e+15</td>\n",
       "      <td>-2.633501e+14</td>\n",
       "    </tr>\n",
       "    <tr>\n",
       "      <th>1</th>\n",
       "      <td>MSE</td>\n",
       "      <td>4.452319e+10</td>\n",
       "      <td>-1.047784e+10</td>\n",
       "    </tr>\n",
       "    <tr>\n",
       "      <th>2</th>\n",
       "      <td>RMSE</td>\n",
       "      <td>2.110052e+05</td>\n",
       "      <td>-2.351780e+04</td>\n",
       "    </tr>\n",
       "  </tbody>\n",
       "</table>\n",
       "</div>"
      ],
      "text/plain": [
       "  metric   model_error   error_delta\n",
       "0    SSE  1.119046e+15 -2.633501e+14\n",
       "1    MSE  4.452319e+10 -1.047784e+10\n",
       "2   RMSE  2.110052e+05 -2.351780e+04"
      ]
     },
     "execution_count": 28,
     "metadata": {},
     "output_type": "execute_result"
    }
   ],
   "source": [
    "#use results to select best model, whichever model ends up producing the least amount of error, use that model\n",
    "# when in doubt, RMSE is best to use\n",
    "\n",
    "df_eval['error_delta'] = df_eval.model_error - df_baseline_eval.model_error\n",
    "df_eval"
   ]
  },
  {
   "cell_type": "markdown",
   "id": "3602e94d",
   "metadata": {},
   "source": [
    "#### 5) Calculate the sum of squared errors, mean squared error,  and root mean squared error for the baseline model (i.e. a model that always predicts average tax_value)"
   ]
  },
  {
   "cell_type": "code",
   "execution_count": 29,
   "id": "d5ddef38",
   "metadata": {},
   "outputs": [
    {
     "name": "stdout",
     "output_type": "stream",
     "text": [
      "SSE Baseline = 1382396018363159.2\n",
      "MSE Baseline = 55001035185.9\n",
      "RMSE baseline =  234523.0\n"
     ]
    }
   ],
   "source": [
    "#using sklearn\n",
    "\n",
    "#SSE\n",
    "SSE2_baseline = mean_squared_error(df.tax_value, df.baseline) * len(df)\n",
    "\n",
    "#MSE\n",
    "MSE2_baseline = mean_squared_error(df.tax_value, df.baseline) \n",
    "\n",
    "#RMSE\n",
    "RMSE2_baseline = mean_squared_error(df.tax_value, df.baseline, squared = False)\n",
    "\n",
    "\n",
    "print(\"SSE Baseline =\", \"{:.1f}\".format(SSE2_baseline))\n",
    "print('MSE Baseline =', '{:.1f}'.format(MSE2_baseline))\n",
    "print(\"RMSE baseline = \", \"{:.1f}\".format(RMSE2_baseline))"
   ]
  },
  {
   "cell_type": "markdown",
   "id": "f441ee96",
   "metadata": {},
   "source": [
    "#### 6) Write python code that compares the sum of squared errors for your model against the sum of squared errors for the baseline model and outputs whether or not your model performs better than the baseline model."
   ]
  },
  {
   "cell_type": "code",
   "execution_count": 30,
   "id": "ae56b607",
   "metadata": {},
   "outputs": [
    {
     "name": "stdout",
     "output_type": "stream",
     "text": [
      "OLS Regression Model performs better than the baseline model.\n"
     ]
    }
   ],
   "source": [
    "if SSE < SSE_baseline:\n",
    "    print('OLS Regression Model performs better than the baseline model.')\n",
    "    \n",
    "else:\n",
    "    print('OLS Regression Model performs worse than the baseline model.')"
   ]
  },
  {
   "cell_type": "markdown",
   "id": "def176e4",
   "metadata": {},
   "source": [
    "#### 7) What is the amount of variance in the model?"
   ]
  },
  {
   "cell_type": "code",
   "execution_count": 31,
   "id": "dea1e1e1",
   "metadata": {},
   "outputs": [
    {
     "name": "stdout",
     "output_type": "stream",
     "text": [
      "R-squared =  0.191\n",
      "Percent of variance in y (tax_value) explained by x (area) = 19.1 %\n"
     ]
    }
   ],
   "source": [
    "# manual R2\n",
    "\n",
    "# Total Sum of Squares = SSE for baseline\n",
    "TSS = SSE_baseline =  df['baseline_residual^2'].sum()\n",
    "\n",
    "# Sum of squared error for the regression line (Unexplained error)\n",
    "SSE = df['residual^2'].sum()\n",
    "\n",
    "# ESS - Explained sum of squares ('Explained Error')\n",
    "ESS = TSS - SSE\n",
    "\n",
    "# Calculate R2\n",
    "R2 = ESS/TSS\n",
    "\n",
    "\n",
    "print('R-squared = ', round(R2, 3))\n",
    "print('Percent of variance in y (tax_value) explained by x (area) =', round(R2 * 100, 1), '%')"
   ]
  },
  {
   "cell_type": "code",
   "execution_count": 32,
   "id": "e910aa6a",
   "metadata": {},
   "outputs": [
    {
     "data": {
      "text/plain": [
       "0.1905026444996719"
      ]
     },
     "execution_count": 32,
     "metadata": {},
     "output_type": "execute_result"
    }
   ],
   "source": [
    "# sklearn r2\n",
    "from sklearn.metrics import r2_score\n",
    "\n",
    "r2_score(df.tax_value, df.yhat)"
   ]
  },
  {
   "cell_type": "code",
   "execution_count": 33,
   "id": "3d758704",
   "metadata": {},
   "outputs": [
    {
     "name": "stdout",
     "output_type": "stream",
     "text": [
      "Explained Variance =  0.191\n"
     ]
    }
   ],
   "source": [
    "from sklearn.metrics import explained_variance_score \n",
    "\n",
    "evs = explained_variance_score(df.tax_value, df.yhat)\n",
    "print('Explained Variance = ', round(evs, 3))"
   ]
  },
  {
   "cell_type": "markdown",
   "id": "8e4d5a31",
   "metadata": {},
   "source": [
    "#### 8) Is the model better than the baseline model?"
   ]
  },
  {
   "cell_type": "code",
   "execution_count": 34,
   "id": "c9f445b8",
   "metadata": {},
   "outputs": [
    {
     "data": {
      "text/plain": [
       "True"
      ]
     },
     "execution_count": 34,
     "metadata": {},
     "output_type": "execute_result"
    }
   ],
   "source": [
    "SSE < SSE_baseline"
   ]
  },
  {
   "cell_type": "markdown",
   "id": "95be2407",
   "metadata": {},
   "source": [
    "#### 9) Create a file named evaluate.py that contains the following functions: \n",
    "- plot_residuals(y, yhat):creates a residual plot\n",
    "- regression_errors(y, yhat): returns the following values:\n",
    "\n",
    "    - sum of squares (SSE)\n",
    "    - explained sum of squares (ESS)\n",
    "    - total sum of squares (TSS)\n",
    "    - mean squared error (MSE)\n",
    "    - root mean squared error (RMSE)\n",
    "    \n",
    "- baseline_mean_errors(y): computes SSE, MSE, and RMSE for the baseline model\n",
    "- better_than_baseline(y, yhat): returns true if your model performs better than the baseline, otherwise false"
   ]
  },
  {
   "cell_type": "code",
   "execution_count": 58,
   "id": "4505775d",
   "metadata": {},
   "outputs": [],
   "source": [
    "def plot_residuals(actual, predicted):\n",
    "    residuals = actual - predicted\n",
    "    plt.hlines(0, actual.min(), actual.max(), ls=':', colors = 'r')\n",
    "    plt.scatter(actual, residuals)\n",
    "    plt.ylabel('Residual ($y - \\hat{y}$)')\n",
    "    plt.xlabel('Actual Value ($y$)')\n",
    "    plt.title('Actual vs Residual')\n",
    "    plt.show()"
   ]
  },
  {
   "cell_type": "code",
   "execution_count": 41,
   "id": "4e7bfdf6",
   "metadata": {},
   "outputs": [],
   "source": [
    "#def residuals for manual calc\n",
    "def residuals(actual, predicted):\n",
    "    return actual - predicted\n",
    "\n",
    "# manually define: sse, mse, rmse, ess, tss, r2_score \n",
    "\n",
    "def sse(actual, predicted):\n",
    "    return (residuals(actual, predicted) ** 2).sum()\n",
    "\n",
    "def mse(actual, predicted):\n",
    "    n = actual.shape[0]\n",
    "    return sse(actual, predicted) / n\n",
    "\n",
    "def rmse(actual, predicted):\n",
    "    #import math module to ensure function runs\n",
    "    import math\n",
    "    return math.sqrt(mse(actual, predicted))\n",
    "\n",
    "def ess(actual, predicted):\n",
    "    return ((predicted - actual.mean()) ** 2).sum()\n",
    "\n",
    "def tss(actual):\n",
    "    return ((actual - actual.mean()) ** 2).sum()\n",
    "\n",
    "def r2_score(actual, predicted):\n",
    "    return ess(actual, predicted) / tss(actual)\n",
    "\n",
    "\n",
    "#return  a series with sse, ess, tss, mse, and rmse\n",
    "def regression_errors(actual, predicted):\n",
    "    return pd.Series({\n",
    "        'sse': sse(actual, predicted),\n",
    "        'ess': ess(actual, predicted),\n",
    "        'tss': tss(actual),\n",
    "        'mse': mse(actual, predicted),\n",
    "        'rmse': rmse(actual, predicted),\n",
    "    })\n",
    "\n",
    "#return sse, mse, rmse\n",
    "def baseline_mean_errors(actual):\n",
    "    predicted = actual.mean()\n",
    "    return {\n",
    "        'sse': sse(actual, predicted),\n",
    "        'mse': mse(actual, predicted),\n",
    "        'rmse': rmse(actual, predicted),\n",
    "    }\n",
    "\n",
    "\n",
    "def better_than_baseline(actual, predicted):\n",
    "    rmse_baseline = rmse(actual, actual.mean())\n",
    "    rmse_model = rmse(actual, predicted)\n",
    "    if rmse_model < rmse_baseline:\n",
    "        print('OLS Regression Model performs better than the baseline model.')\n",
    "    \n",
    "    else:\n",
    "        print('OLS Regression Model performs worse than the baseline model.')\n",
    "    return rmse_model < rmse_baseline"
   ]
  },
  {
   "cell_type": "code",
   "execution_count": 56,
   "id": "f194dffd",
   "metadata": {},
   "outputs": [
    {
     "name": "stdout",
     "output_type": "stream",
     "text": [
      "OLS Regression Model performs better than the baseline model.\n"
     ]
    },
    {
     "data": {
      "text/plain": [
       "True"
      ]
     },
     "execution_count": 56,
     "metadata": {},
     "output_type": "execute_result"
    }
   ],
   "source": [
    "better_than_baseline(df.tax_value, df.yhat)"
   ]
  },
  {
   "cell_type": "code",
   "execution_count": 59,
   "id": "841d2146",
   "metadata": {},
   "outputs": [
    {
     "data": {
      "image/png": "[encoded data removed]",
      "text/plain": [
       "<Figure size 432x288 with 1 Axes>"
      ]
     },
     "metadata": {
      "needs_background": "light"
     },
     "output_type": "display_data"
    }
   ],
   "source": [
    "plot_residuals(df.tax_value, df.yhat)"
   ]
  },
  {
   "cell_type": "code",
   "execution_count": null,
   "id": "9187c381",
   "metadata": {},
   "outputs": [],
   "source": []
  }
 ],
 "metadata": {
  "kernelspec": {
   "display_name": "Python 3 (ipykernel)",
   "language": "python",
   "name": "python3"
  },
  "language_info": {
   "codemirror_mode": {
    "name": "ipython",
    "version": 3
   },
   "file_extension": ".py",
   "mimetype": "text/x-python",
   "name": "python",
   "nbconvert_exporter": "python",
   "pygments_lexer": "ipython3",
   "version": "3.9.7"
  }
 },
 "nbformat": 4,
 "nbformat_minor": 5
}
